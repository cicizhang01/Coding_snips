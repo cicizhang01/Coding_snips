{
 "cells": [
  {
   "cell_type": "code",
   "execution_count": 1,
   "metadata": {},
   "outputs": [],
   "source": [
    "import random\n",
    "import numpy as np"
   ]
  },
  {
   "cell_type": "code",
   "execution_count": 2,
   "metadata": {},
   "outputs": [],
   "source": [
    "def generate_target_function():\n",
    "    \"\"\"\n",
    "    Generates random target function with d = 2 by taking two random points between \n",
    "    [-1, 1] x [-1, 1] and creating a random line\n",
    "    \"\"\"\n",
    "    x1, y1 = random.uniform(-1.0, 1.0), random.uniform(-1.0, 1.0)\n",
    "    x2, y2 = random.uniform(-1.0, 1.0), random.uniform(-1.0, 1.0)\n",
    "    m = (y2 - y1) / (x2 - x1)\n",
    "    b = y2 - m * x1\n",
    "    return m, b\n",
    "\n",
    "def generate_data(num_training_pts, m, b):\n",
    "    \"\"\"\n",
    "    Creates data set. Inputs are two dim and Output is either -1 or 1. Point is -1 if below target function line \n",
    "    and 1 if above.\n",
    "    Returns: [[x, y], output]\n",
    "    \"\"\"\n",
    "    training_data = []\n",
    "    for i in range(num_training_pts):\n",
    "        x, y = random.uniform(-1.0, 1.0), random.uniform(-1.0, 1.0)\n",
    "        comparison = x * m + b\n",
    "        if y > comparison:\n",
    "            output = 1\n",
    "        else: \n",
    "            output = -1\n",
    "        training_data.append([[x, y], output])\n",
    "    return training_data\n",
    "        \n",
    "def calculate_predictions(weight, point):\n",
    "    \"\"\"\n",
    "    Calculates predicted output using given weights\n",
    "    \"\"\"\n",
    "    point = [1] + point\n",
    "    numpy_point = np.array(point)\n",
    "    sign = np.sign(np.dot(weight, numpy_point))\n",
    "    return sign\n",
    "\n",
    "def get_miscalculated_points(weight, data):\n",
    "    \"\"\"\n",
    "    Returns array with points that are misclassified using predicted weights\n",
    "    \"\"\"\n",
    "    miscalculated_pts = []\n",
    "    for point in data: \n",
    "        pred = calculate_predictions(weight, point[0])\n",
    "        if pred != point[1]:\n",
    "            miscalculated_pts.append(point)\n",
    "    return miscalculated_pts\n",
    "\n",
    "def fix_weights(weights, point):\n",
    "    \"\"\"\n",
    "    Adjusts weights according to misclassified point\n",
    "    \"\"\"\n",
    "    coord = [1] + point[0]\n",
    "    numpy_point = np.array(coord)\n",
    "    new_weight = weights + numpy_point * point[1]\n",
    "    return new_weight\n",
    "\n"
   ]
  },
  {
   "cell_type": "code",
   "execution_count": 11,
   "metadata": {},
   "outputs": [],
   "source": [
    "def run_trials(num_points, num_of_times):\n",
    "    \"\"\"\n",
    "    Each run (there are num_of_times runs) chooses a random line in X = [-1, 1] x [-1, 1].\n",
    "    Data set of size num_points is randomly generated. Each run uses Perceptron Learning \n",
    "    Algorithm to predict target function (randomly generated line). \n",
    "    \n",
    "    Prints: \n",
    "        avg_iters : average number of iterations of PLA for prediction to converge\n",
    "        avg_prob_failing : average probability that target function and prediction \n",
    "            function will disagree on classification of point\n",
    "    \"\"\"\n",
    "    total_iters = 0\n",
    "    prob_failing = 0\n",
    "    for i in range(num_of_times):\n",
    "        m, b = generate_target_function()\n",
    "        training_data = generate_data(num_points, m, b)\n",
    "        weights = np.array([0.0, 0.0, 0.0])\n",
    "\n",
    "        mis_points = get_miscalculated_points(weights, training_data)\n",
    "        iteration = 0\n",
    "        while(True):\n",
    "            if len(mis_points) > 0:\n",
    "                bad_point = random.choice(mis_points)\n",
    "                weights = fix_weights(weights, bad_point)\n",
    "                mis_points = get_miscalculated_points(weights, training_data)\n",
    "                iteration += 1\n",
    "            else:\n",
    "                break\n",
    "        total_iters += iteration\n",
    "        \n",
    "        testing_data = generate_data(1000, m, b)\n",
    "        failed_testing_data = get_miscalculated_points(weights, testing_data)\n",
    "        prob_failing += len(failed_testing_data) / 1000\n",
    "    avg_prob_failing = prob_failing / num_of_times\n",
    "    avg_iters = total_iters / num_of_times\n",
    "    print(\"Average iters: {} Average probability to fail: {}\".format(avg_iters, avg_prob_failing))\n",
    "    "
   ]
  },
  {
   "cell_type": "code",
   "execution_count": 12,
   "metadata": {},
   "outputs": [
    {
     "name": "stdout",
     "output_type": "stream",
     "text": [
      "Average iters: 7.885 Average probability to fail: 0.09192000000000008\n",
      "Average iters: 92.619 Average probability to fail: 0.012915999999999967\n"
     ]
    }
   ],
   "source": [
    "run_trials(10, 1000)\n",
    "run_trials(100, 1000)"
   ]
  },
  {
   "cell_type": "code",
   "execution_count": null,
   "metadata": {},
   "outputs": [],
   "source": []
  }
 ],
 "metadata": {
  "kernelspec": {
   "display_name": "Python 3",
   "language": "python",
   "name": "python3"
  },
  "language_info": {
   "codemirror_mode": {
    "name": "ipython",
    "version": 3
   },
   "file_extension": ".py",
   "mimetype": "text/x-python",
   "name": "python",
   "nbconvert_exporter": "python",
   "pygments_lexer": "ipython3",
   "version": "3.7.4"
  }
 },
 "nbformat": 4,
 "nbformat_minor": 2
}
